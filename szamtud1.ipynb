{
 "metadata": {
  "name": "",
  "signature": "sha256:33ff19b40c4cc9009e0f005c3c6e4bb52646baa5ce554be6186db1480d041ae3"
 },
 "nbformat": 3,
 "nbformat_minor": 0,
 "worksheets": [
  {
   "cells": [
    {
     "cell_type": "markdown",
     "metadata": {},
     "source": [
      "Valami sz\u00f6veges le\u00edr\u00e1s"
     ]
    },
    {
     "cell_type": "code",
     "collapsed": false,
     "input": [
      "def mytest_func(valami):\n",
      "    return valami\n",
      "\n",
      "print(mytest_func('nice'))\n",
      "\n"
     ],
     "language": "python",
     "metadata": {},
     "outputs": [
      {
       "output_type": "stream",
       "stream": "stdout",
       "text": [
        "nice\n"
       ]
      }
     ],
     "prompt_number": 1
    },
    {
     "cell_type": "markdown",
     "metadata": {},
     "source": [
      "Sz\u00f6veges le\u00edr\u00e1s"
     ]
    }
   ],
   "metadata": {}
  }
 ]
}