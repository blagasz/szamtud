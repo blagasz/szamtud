{
 "metadata": {
  "name": "",
  "signature": "sha256:b3c0ada55ea9a196bd198ffd0a6ba0f94a239e7b00749c8caa3e7f44a6e38572"
 },
 "nbformat": 3,
 "nbformat_minor": 0,
 "worksheets": [
  {
   "cells": [
    {
     "cell_type": "heading",
     "level": 1,
     "metadata": {},
     "source": [
      "Python seg\u00e9dlet"
     ]
    },
    {
     "cell_type": "markdown",
     "metadata": {},
     "source": [
      "Ez csak egy demo, de valami hasonl\u00f3ra gondoltam az eg\u00e9szet illet\u0151en is."
     ]
    },
    {
     "cell_type": "heading",
     "level": 2,
     "metadata": {},
     "source": [
      "1.6. feladat."
     ]
    },
    {
     "cell_type": "markdown",
     "metadata": {},
     "source": [
      "Milyen eredm\u00e9nyt szolg\u00e1ltat az al\u00e1bbi Python-ban \u00edrt program?\n",
      "\n",
      "$T_{max}^{\u00f6ssze} = \\Theta(?)$, azaz hogyan n\u00f6vekszik nagys\u00e1grendileg a legrosszabb esetben a t\u00f6mbelem \u00f6sszehasonl\u00edt\u00e1sok sz\u00e1ma a t\u00f6mb elemsz\u00e1m\u00e1val?\n",
      "\n",
      "-------------\n"
     ]
    },
    {
     "cell_type": "markdown",
     "metadata": {},
     "source": [
      "Eredeti v\u00e1ltozat, ez k\u00f6zel\u00edti legink\u00e1bb a k\u00f6nyvi maximum keres\u0151t, de mivel a t\u00f6mb\u00f6k itt 1-t\u0151l indexeltek, ez\u00e9rt csak mondjuk eg\u00e9sz kulcs\u00fa *dict* t\u00edpussal h\u00edvhat\u00f3:"
     ]
    },
    {
     "cell_type": "code",
     "collapsed": false,
     "input": [
      "import math\n",
      "\n",
      "def s1(x):\n",
      "    r = len(x)\n",
      "    while r > 1:\n",
      "        i = 1\n",
      "        while i <= math.ceil(r/2):\n",
      "            if 2*i - 1 == r:\n",
      "                x[i] = x[2*i-1]\n",
      "            elif x[2*i-1] < x[2*i]:\n",
      "                x[i] = x[2*i]\n",
      "            else:\n",
      "                x[i] = x[2*i-1]\n",
      "            i += 1\n",
      "        r = math.ceil(r/2)\n",
      "    return x[1]"
     ],
     "language": "python",
     "metadata": {},
     "outputs": [],
     "prompt_number": 1
    },
    {
     "cell_type": "code",
     "collapsed": false,
     "input": [
      "s1({\n",
      "    1: 23,\n",
      "    2: 34,\n",
      "    3: 25,\n",
      "    4: 990,\n",
      "    5: 100,\n",
      "    6: 5,\n",
      "    7: 110,\n",
      "    8: 9,\n",
      "    9: 33,\n",
      "})"
     ],
     "language": "python",
     "metadata": {},
     "outputs": [
      {
       "metadata": {},
       "output_type": "pyout",
       "prompt_number": 2,
       "text": [
        "990"
       ]
      }
     ],
     "prompt_number": 2
    },
    {
     "cell_type": "markdown",
     "metadata": {},
     "source": [
      "0 indexel\u00e9s\u0171 t\u00f6mbre is m\u0171k\u00f6d\u0151 v\u00e1ltozat (az fels\u0151 eg\u00e9szr\u00e9szt als\u00f3ra cser\u00e9ltem az egyszer\u0171s\u00e9g kedv\u00e9\u00e9rt):"
     ]
    },
    {
     "cell_type": "code",
     "collapsed": false,
     "input": [
      "def s2(x):\n",
      "    r = len(x) - 1\n",
      "    while r > 0:\n",
      "        i = 0\n",
      "        while i <= r//2:\n",
      "            if 2*i == r:\n",
      "                x[i] = x[2*i]\n",
      "            elif x[2*i] > x[2*i+1]:\n",
      "                x[i] = x[2*i]\n",
      "            else:\n",
      "                x[i] = x[2*i+1]\n",
      "            i += 1\n",
      "        r = r//2\n",
      "    return x[0]    "
     ],
     "language": "python",
     "metadata": {},
     "outputs": [],
     "prompt_number": 3
    },
    {
     "cell_type": "code",
     "collapsed": false,
     "input": [
      "s2([23,111,26,3,4,5,65,11,34,45,4,1,6,7,23,38,98])"
     ],
     "language": "python",
     "metadata": {},
     "outputs": [
      {
       "metadata": {},
       "output_type": "pyout",
       "prompt_number": 4,
       "text": [
        "111"
       ]
      }
     ],
     "prompt_number": 4
    },
    {
     "cell_type": "markdown",
     "metadata": {},
     "source": [
      "Leg*python*abb megold\u00e1s:"
     ]
    },
    {
     "cell_type": "code",
     "collapsed": false,
     "input": [
      "def s3(x):\n",
      "    r = len(x) - 1\n",
      "    while r > 0:\n",
      "        for i in range(r//2+1):\n",
      "            if 2*i == r:\n",
      "                x[i] = x[2*i]\n",
      "            else:\n",
      "                x[i] = x[2*i] if x[2*i] > x[2*i+1] else x[2*i+1]\n",
      "        r = r//2\n",
      "    return x[0]"
     ],
     "language": "python",
     "metadata": {},
     "outputs": [],
     "prompt_number": 5
    },
    {
     "cell_type": "code",
     "collapsed": false,
     "input": [
      "s3([123,22,23,112,32,1,32,123,124,54,53,54])"
     ],
     "language": "python",
     "metadata": {},
     "outputs": [
      {
       "metadata": {},
       "output_type": "pyout",
       "prompt_number": 6,
       "text": [
        "124"
       ]
      }
     ],
     "prompt_number": 6
    }
   ],
   "metadata": {}
  }
 ]
}